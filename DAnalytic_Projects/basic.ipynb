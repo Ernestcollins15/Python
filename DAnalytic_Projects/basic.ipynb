{
 "cells": [
  {
   "cell_type": "code",
   "execution_count": null,
   "metadata": {},
   "outputs": [],
   "source": [
    "the_list = range(3, 10) # range creates a sequence of values between the two arguments\n",
    "for i in the_list:\n",
    "    i+=1\n",
    "    print(i)\n"
   ]
  },
  {
   "cell_type": "code",
   "execution_count": null,
   "metadata": {},
   "outputs": [],
   "source": [
    "#while loops\n",
    "x=0\n",
    "while x<10:\n",
    "    x+=1\n",
    "    print(x) "
   ]
  },
  {
   "cell_type": "code",
   "execution_count": 2,
   "metadata": {},
   "outputs": [
    {
     "name": "stdout",
     "output_type": "stream",
     "text": [
      "x is less than y\n"
     ]
    }
   ],
   "source": [
    "#conditions IF-THEN\n",
    "x=4\n",
    "y=5\n",
    "if x==y:\n",
    "    print(\"x and y are equal\")\n",
    "elif x<y:\n",
    "    print(\"x is less than y\")\n",
    "else:\n",
    "    print(\"x is greater than y\")\n",
    "    \n",
    "       \n"
   ]
  },
  {
   "cell_type": "code",
   "execution_count": 11,
   "metadata": {},
   "outputs": [
    {
     "name": "stdout",
     "output_type": "stream",
     "text": [
      "    Courses    Fee Duration\n",
      "r1    Spark  20000   30days\n",
      "r2  PySpark  25000   40days\n",
      "r3   Python  22000   35days\n",
      "r4   pandas  30000   50days\n",
      "   Courses  Discount\n",
      "r1   Spark      2000\n",
      "r6    Java      2300\n",
      "r3  Python      1200\n",
      "r5      Go      2000\n",
      "   Courses    Fee Duration Courses  Discount\n",
      "r1   Spark  20000   30days   Spark      2000\n",
      "r3  Python  22000   35days  Python      1200\n"
     ]
    }
   ],
   "source": [
    "# Create DataFrames\n",
    "import pandas as pd\n",
    "technologies = {\n",
    "    'Courses':[\"Spark\",\"PySpark\",\"Python\",\"pandas\"],\n",
    "    'Fee' :[20000,25000,22000,30000],\n",
    "    'Duration':['30days','40days','35days','50days'],\n",
    "              }\n",
    "index_labels=['r1','r2','r3','r4']\n",
    "df1 = pd.DataFrame(technologies,index=index_labels)\n",
    "\n",
    "technologies2 = {\n",
    "    'Courses':[\"Spark\",\"Java\",\"Python\",\"Go\"],\n",
    "    'Discount':[2000,2300,1200,2000]\n",
    "              }\n",
    "index_labels2=['r1','r6','r3','r5']\n",
    "df2 = pd.DataFrame(technologies2,index=index_labels2)\n",
    "\n",
    "print(df1)\n",
    "print(df2)\n",
    "\n",
    "# pandas.merge() by Column\n",
    "df3=pd.merge(df1,df2)\n",
    "\n",
    "# DataFrame.merge() by Column\n",
    "df3=df1.merge(df2)\n",
    "\n",
    "# Merge DataFrames by Column\n",
    "df3=pd.merge(df1,df2, on='Courses')\n",
    "#print(df3)\n",
    "\n",
    "# When column names are different\n",
    "df4=pd.merge(df1,df2, left_on='Courses', right_on='Courses')\n",
    "#print(df4)\n",
    "\n",
    "# By using concat()\n",
    "df5=pd.concat([df1,df2],axis=1,join='inner')\n",
    "#print(df5)\n",
    "\n"
   ]
  },
  {
   "cell_type": "code",
   "execution_count": 14,
   "metadata": {},
   "outputs": [
    {
     "name": "stdout",
     "output_type": "stream",
     "text": [
      "  Courses      Fee Duration  Discount\n",
      "0   Spark  20000.0   30days    1000.0\n",
      "1    Java      NaN      NaN       NaN\n",
      "2  Hadoop  26000.0   35days    2500.0\n",
      "3  Python      NaN   40days    2100.0\n",
      "4  pandas  24000.0      NaN       NaN\n",
      "True\n",
      "True\n",
      "False\n",
      "True\n",
      "0    False\n",
      "1     True\n",
      "2    False\n",
      "3     True\n",
      "4    False\n",
      "Name: Fee, dtype: bool\n",
      "Courses     0\n",
      "Fee         2\n",
      "Duration    2\n",
      "Discount    2\n",
      "dtype: int64\n",
      "2\n",
      "Fee         2\n",
      "Duration    2\n",
      "dtype: int64\n",
      "Number of NaN values present:6\n"
     ]
    }
   ],
   "source": [
    "import pandas as pd\n",
    "import numpy as np\n",
    "technologies = ({\n",
    "     'Courses':[\"Spark\",\"Java\",\"Hadoop\",\"Python\",\"pandas\"],\n",
    "     'Fee' :[20000,np.nan,26000,np.nan,24000],\n",
    "     'Duration':['30days',np.nan,'35days','40days',np.nan],\n",
    "     'Discount':[1000,np.nan,2500,2100,np.nan]\n",
    "               })\n",
    "df = pd.DataFrame(technologies)\n",
    "print(df)\n",
    "\n",
    "# Checking NaN on entire DataFrame\n",
    "value = df.isnull().values.any()\n",
    "print(value)\n",
    "\n",
    "# Checking on Single Column\n",
    "value = df['Fee'].isnull().values.any()\n",
    "print(value) \n",
    "\n",
    "# Checking on Single Column\n",
    "value = df['Courses'].isnull().values.any()\n",
    "print(value) \n",
    "\n",
    "# Checking on multiple columns\n",
    "value = df[['Fee','Duration']].isnull().values.any()\n",
    "print(value) \n",
    "\n",
    "# Using DataFrame.isnull() method\n",
    "df2 = df['Fee'].isnull()\n",
    "print(df2)\n",
    "\n",
    "# Count NaN on entire DataFrame\n",
    "result = df.isnull().sum()\n",
    "print(result)\n",
    "\n",
    "# Counte NaN on single column of DataFrame\n",
    "result = df['Fee'].isnull().sum()\n",
    "print(result)\n",
    "\n",
    "# Counte NaN on selected columns of DataFrame\n",
    "result = df[['Fee','Duration']].isnull().sum()\n",
    "print(result)\n",
    "\n",
    "# To get the Count\n",
    "count = df.isnull().sum().sum()\n",
    "print('Number of NaN values present:' +str(count))\n",
    "\n"
   ]
  }
 ],
 "metadata": {
  "kernelspec": {
   "display_name": "Python 3.10.2 64-bit",
   "language": "python",
   "name": "python3"
  },
  "language_info": {
   "codemirror_mode": {
    "name": "ipython",
    "version": 3
   },
   "file_extension": ".py",
   "mimetype": "text/x-python",
   "name": "python",
   "nbconvert_exporter": "python",
   "pygments_lexer": "ipython3",
   "version": "3.10.2"
  },
  "orig_nbformat": 4,
  "vscode": {
   "interpreter": {
    "hash": "9575e1d673d3c6c2bedb167f9f082b94769df3d2c2acb9a7a7856b694ef6da0b"
   }
  }
 },
 "nbformat": 4,
 "nbformat_minor": 2
}
