{
 "cells": [
  {
   "cell_type": "code",
   "execution_count": 1,
   "metadata": {},
   "outputs": [
    {
     "name": "stdout",
     "output_type": "stream",
     "text": [
      "r,p,s for rock,paper,Scissors: s\n",
      "You chose s and computer chose p\n",
      "scissors cut paper,You win!\n",
      "would you like to continue playing? :[yes/No]yes\n",
      "r,p,s for rock,paper,Scissors: r\n",
      "You chose r and computer chose p\n",
      "paper covers rock,computer wins!\n",
      "would you like to continue playing? :[yes/No]no\n"
     ]
    }
   ],
   "source": [
    "import random\n",
    "def rps():\n",
    "    keep_playing = True\n",
    "    while keep_playing is True:\n",
    "        player_input=input('r,p,s for rock,paper,Scissors: ')\n",
    "        possible_actions=['r','p','s']\n",
    "        computer_input = random.choice(possible_actions)\n",
    "        print(f'You chose {player_input} and computer chose {computer_input}')\n",
    "        if player_input == computer_input:\n",
    "            print(f'both players chose {player_input},a tie')\n",
    "        elif player_input == 'r':\n",
    "            if computer_input == 's':\n",
    "                print('rock smashes scissors,You win!')\n",
    "            else: \n",
    "                print('paper covers rock,computer wins!')\n",
    "        elif player_input == 'p':\n",
    "            if computer_input == 'r':\n",
    "                print('Paper covers rock,You win!')\n",
    "            else:\n",
    "                print('scissors cut paper,computer wins!')\n",
    "        elif player_input == 's':\n",
    "            if computer_input == 'p':\n",
    "                print('scissors cut paper,You win!')\n",
    "            else:\n",
    "                print('rock smashes scissors,computer wins!')\n",
    "    \n",
    "        choice= input('would you like to continue playing? :[yes/No]') \n",
    "        if choice.lower() == 'yes':\n",
    "            keep_playing = True\n",
    "        elif choice.lower() == 'no':\n",
    "            keep_playing = False\n",
    "rps()  "
   ]
  },
  {
   "cell_type": "code",
   "execution_count": null,
   "metadata": {},
   "outputs": [],
   "source": []
  },
  {
   "cell_type": "code",
   "execution_count": null,
   "metadata": {},
   "outputs": [],
   "source": []
  },
  {
   "cell_type": "code",
   "execution_count": null,
   "metadata": {},
   "outputs": [],
   "source": []
  }
 ],
 "metadata": {
  "kernelspec": {
   "display_name": "Python 3",
   "language": "python",
   "name": "python3"
  },
  "language_info": {
   "codemirror_mode": {
    "name": "ipython",
    "version": 3
   },
   "file_extension": ".py",
   "mimetype": "text/x-python",
   "name": "python",
   "nbconvert_exporter": "python",
   "pygments_lexer": "ipython3",
   "version": "3.7.0"
  }
 },
 "nbformat": 4,
 "nbformat_minor": 2
}
